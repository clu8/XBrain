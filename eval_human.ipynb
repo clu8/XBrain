{
 "cells": [
  {
   "cell_type": "code",
   "execution_count": 1,
   "metadata": {
    "collapsed": false
   },
   "outputs": [],
   "source": [
    "import pickle\n",
    "import time\n",
    "\n",
    "import numpy as np\n",
    "from PIL import Image\n",
    "import matplotlib.pyplot as plt\n",
    "%matplotlib inline\n",
    "plt.rcParams['figure.figsize'] = (10.0, 8.0) # set default size of plots\n",
    "plt.rcParams['image.interpolation'] = 'nearest'\n",
    "plt.rcParams['image.cmap'] = 'gray'\n",
    "\n",
    "import config\n",
    "\n",
    "# for auto-reloading external modules\n",
    "# see http://stackoverflow.com/questions/1907993/autoreload-of-modules-in-ipython\n",
    "%load_ext autoreload\n",
    "%autoreload 2"
   ]
  },
  {
   "cell_type": "code",
   "execution_count": 2,
   "metadata": {
    "collapsed": false
   },
   "outputs": [],
   "source": [
    "with open(config.PROCESSED_PATH, 'rb') as f:\n",
    "    _, _, X_test, y_test = pickle.load(f)\n",
    "\n",
    "del _\n",
    "num_samples = len(X_test)\n",
    "answers = y_test.numpy().astype(int)"
   ]
  },
  {
   "cell_type": "code",
   "execution_count": 3,
   "metadata": {
    "collapsed": true
   },
   "outputs": [],
   "source": [
    "def show_image(x):\n",
    "    img = x.squeeze().numpy() * 256\n",
    "    img = Image.fromarray(img)\n",
    "    plt.ion()\n",
    "    plt.imshow(img)\n",
    "    plt.draw()"
   ]
  },
  {
   "cell_type": "code",
   "execution_count": 4,
   "metadata": {
    "collapsed": true
   },
   "outputs": [],
   "source": [
    "def show_next_image():\n",
    "    for i in range(num_samples):\n",
    "        x, y = X_test[i], y_test[i]\n",
    "        print(i)\n",
    "        show_image(x)\n",
    "        yield"
   ]
  },
  {
   "cell_type": "code",
   "execution_count": 5,
   "metadata": {
    "collapsed": false
   },
   "outputs": [],
   "source": [
    "g = show_next_image()"
   ]
  },
  {
   "cell_type": "code",
   "execution_count": 6,
   "metadata": {
    "collapsed": false
   },
   "outputs": [],
   "source": [
    "ken_preds = np.array([\n",
    "    0,\n",
    "    1,\n",
    "    0,\n",
    "    0,\n",
    "    1,\n",
    "    1,\n",
    "    1,\n",
    "    1,\n",
    "    0,\n",
    "    0,\n",
    "    1,\n",
    "    1,\n",
    "    1,\n",
    "    1,\n",
    "    0,\n",
    "    0,\n",
    "    0,\n",
    "    0,\n",
    "    1,\n",
    "    1,\n",
    "    0,\n",
    "    1,\n",
    "    1,\n",
    "    0,\n",
    "    1,\n",
    "    0,\n",
    "    0,\n",
    "    0,\n",
    "    1,\n",
    "    0,\n",
    "    1,\n",
    "    0,\n",
    "    0,\n",
    "    1,\n",
    "    0,\n",
    "    1,\n",
    "    1,\n",
    "    1,\n",
    "    1,\n",
    "    1,\n",
    "    0,\n",
    "    1,\n",
    "    0,\n",
    "    1,\n",
    "    0,\n",
    "    1,\n",
    "    1,\n",
    "    1,\n",
    "    1,\n",
    "    1,\n",
    "    1,\n",
    "    0,\n",
    "    1,\n",
    "    1,\n",
    "    0,\n",
    "    1,\n",
    "    0,\n",
    "    0,\n",
    "    0,\n",
    "    0,\n",
    "    1,\n",
    "    0,\n",
    "    1,\n",
    "    0,\n",
    "    1,\n",
    "    1,\n",
    "    0,\n",
    "    1,\n",
    "    0,\n",
    "    0,\n",
    "    0,\n",
    "    1,\n",
    "    0,\n",
    "    1,\n",
    "    0,\n",
    "    1,\n",
    "    1,\n",
    "    0,\n",
    "    1,\n",
    "    1,\n",
    "    0\n",
    "])"
   ]
  },
  {
   "cell_type": "code",
   "execution_count": 7,
   "metadata": {
    "collapsed": true
   },
   "outputs": [],
   "source": [
    "robert_preds = np.array([\n",
    "    1,\n",
    "    0,\n",
    "    0,\n",
    "    1,\n",
    "    0,\n",
    "    1,\n",
    "    0,\n",
    "    1,\n",
    "    1,\n",
    "    1,\n",
    "    1,\n",
    "    0,\n",
    "    1,\n",
    "    1,\n",
    "    1,\n",
    "    1,\n",
    "    1,\n",
    "    0,\n",
    "    1,\n",
    "    0,\n",
    "    0,\n",
    "    1\n",
    "])"
   ]
  },
  {
   "cell_type": "code",
   "execution_count": 8,
   "metadata": {
    "collapsed": true
   },
   "outputs": [],
   "source": [
    "hirra_preds = np.array([\n",
    "    0,\n",
    "    1,\n",
    "    1,\n",
    "    1,\n",
    "    1,\n",
    "    1,\n",
    "    0,\n",
    "    1,\n",
    "    1,\n",
    "    0,\n",
    "    1,\n",
    "    1,\n",
    "    1,\n",
    "    1,\n",
    "    0,\n",
    "    1,\n",
    "    1,\n",
    "    0,\n",
    "    1,\n",
    "    1,\n",
    "    1,\n",
    "    1,\n",
    "    1,\n",
    "    1,\n",
    "    1,\n",
    "    1,\n",
    "    1,\n",
    "    1,\n",
    "    1,\n",
    "    0,\n",
    "    1,\n",
    "    1,\n",
    "    0\n",
    "])"
   ]
  },
  {
   "cell_type": "code",
   "execution_count": null,
   "metadata": {
    "collapsed": false
   },
   "outputs": [],
   "source": [
    "next(g)"
   ]
  },
  {
   "cell_type": "code",
   "execution_count": 9,
   "metadata": {
    "collapsed": false
   },
   "outputs": [
    {
     "name": "stdout",
     "output_type": "stream",
     "text": [
      "n = 81 | acc = 0.753 | precision = 0.750 | recall = 0.786 | F1 = 0.767\n"
     ]
    }
   ],
   "source": [
    "num_tp = ((ken_preds == answers) & (answers == 1)).sum()\n",
    "num_tn = ((ken_preds == answers) & (answers == 0)).sum()\n",
    "num_fp = ((ken_preds != answers) & (answers == 0)).sum()\n",
    "num_fn = ((ken_preds != answers) & (answers == 1)).sum()\n",
    "\n",
    "acc = (num_tp + num_tn) / num_samples\n",
    "precision = num_tp / (num_tp + num_fp)\n",
    "recall = num_tp / (num_tp + num_fn)\n",
    "f1 = 2 * precision * recall / (precision + recall)\n",
    "\n",
    "print('n = {} | acc = {:.3f} | precision = {:.3f} | recall = {:.3f} | F1 = {:.3f}'.format(\n",
    "    num_samples,\n",
    "    acc,\n",
    "    precision,\n",
    "    recall,\n",
    "    f1\n",
    "))"
   ]
  },
  {
   "cell_type": "code",
   "execution_count": 10,
   "metadata": {
    "collapsed": false
   },
   "outputs": [
    {
     "name": "stdout",
     "output_type": "stream",
     "text": [
      "n = 81 | acc = 0.500 | precision = 0.571 | recall = 0.615 | F1 = 0.593\n"
     ]
    }
   ],
   "source": [
    "num_robert_samples = len(robert_preds)\n",
    "robert_answers = answers[:num_robert_samples]\n",
    "\n",
    "num_tp = ((robert_preds == robert_answers) & (robert_answers == 1)).sum()\n",
    "num_tn = ((robert_preds == robert_answers) & (robert_answers == 0)).sum()\n",
    "num_fp = ((robert_preds != robert_answers) & (robert_answers == 0)).sum()\n",
    "num_fn = ((robert_preds != robert_answers) & (robert_answers == 1)).sum()\n",
    "\n",
    "acc = (num_tp + num_tn) / num_robert_samples\n",
    "precision = num_tp / (num_tp + num_fp)\n",
    "recall = num_tp / (num_tp + num_fn)\n",
    "f1 = 2 * precision * recall / (precision + recall)\n",
    "\n",
    "print('n = {} | acc = {:.3f} | precision = {:.3f} | recall = {:.3f} | F1 = {:.3f}'.format(\n",
    "    num_samples,\n",
    "    acc,\n",
    "    precision,\n",
    "    recall,\n",
    "    f1\n",
    "))"
   ]
  },
  {
   "cell_type": "code",
   "execution_count": 11,
   "metadata": {
    "collapsed": false
   },
   "outputs": [
    {
     "name": "stdout",
     "output_type": "stream",
     "text": [
      "n = 81 | acc = 0.864 | precision = 0.577 | recall = 0.833 | F1 = 0.682\n"
     ]
    }
   ],
   "source": [
    "num_hirra_samples = len(hirra_preds)\n",
    "hirra_answers = answers[:num_hirra_samples]\n",
    "\n",
    "num_tp = ((hirra_preds == hirra_answers) & (hirra_answers == 1)).sum()\n",
    "num_tn = ((hirra_preds == hirra_answers) & (hirra_answers == 0)).sum()\n",
    "num_fp = ((hirra_preds != hirra_answers) & (hirra_answers == 0)).sum()\n",
    "num_fn = ((hirra_preds != hirra_answers) & (hirra_answers == 1)).sum()\n",
    "\n",
    "acc = (num_tp + num_tn) / num_robert_samples\n",
    "precision = num_tp / (num_tp + num_fp)\n",
    "recall = num_tp / (num_tp + num_fn)\n",
    "f1 = 2 * precision * recall / (precision + recall)\n",
    "\n",
    "print('n = {} | acc = {:.3f} | precision = {:.3f} | recall = {:.3f} | F1 = {:.3f}'.format(\n",
    "    num_samples,\n",
    "    acc,\n",
    "    precision,\n",
    "    recall,\n",
    "    f1\n",
    "))"
   ]
  },
  {
   "cell_type": "code",
   "execution_count": null,
   "metadata": {
    "collapsed": true
   },
   "outputs": [],
   "source": []
  }
 ],
 "metadata": {
  "kernelspec": {
   "display_name": "Python 3",
   "language": "python",
   "name": "python3"
  },
  "language_info": {
   "codemirror_mode": {
    "name": "ipython",
    "version": 3
   },
   "file_extension": ".py",
   "mimetype": "text/x-python",
   "name": "python",
   "nbconvert_exporter": "python",
   "pygments_lexer": "ipython3",
   "version": "3.5.2"
  }
 },
 "nbformat": 4,
 "nbformat_minor": 0
}
